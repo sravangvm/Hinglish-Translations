{
  "nbformat": 4,
  "nbformat_minor": 0,
  "metadata": {
    "colab": {
      "provenance": []
    },
    "kernelspec": {
      "name": "python3",
      "display_name": "Python 3"
    },
    "language_info": {
      "name": "python"
    }
  },
  "cells": [
    {
      "cell_type": "code",
      "source": [
        "pip install --upgrade googletrans==4.0.0-rc1\n",
        "!pip install  englisttohindi"
      ],
      "metadata": {
        "id": "tTsuBDVp9dmA"
      },
      "execution_count": null,
      "outputs": []
    },
    {
      "cell_type": "code",
      "source": [
        "from englisttohindi.englisttohindi import EngtoHindi\n",
        "import random\n",
        "from googletrans import Translator\n",
        "\n",
        "# Create a Translator object\n",
        "translator = Translator()\n",
        "\n",
        "\n",
        "def translate_hindi_to_english(word):\n",
        "    return translator.translate(word, src=\"hi\", dest=\"en\").text\n",
        "\n",
        "\n",
        "# Function to convert some Hindi words back to their original English format\n",
        "def convert_to_original_english(text):\n",
        "\n",
        "    sen = EngtoHindi(text).convert\n",
        "    # Split the text into words\n",
        "    words = sen.split()\n",
        "\n",
        "    # Calculate the maximum number of indexes to select (20% of the word count or 1, whichever is greater)\n",
        "    max_indexes_to_select = max(int(0.20 * len(words)), 1)\n",
        "\n",
        "    # Randomly select the indexes\n",
        "    selected_indexes = random.sample(range(len(words)), max_indexes_to_select)\n",
        "\n",
        "    for i in selected_indexes:\n",
        "        words[i] = translate_hindi_to_english(words[i])\n",
        "\n",
        "    sen = \"\"\n",
        "    for i in words:\n",
        "        sen = sen + i + \" \"\n",
        "    return sen\n",
        "\n",
        "# Example sentences to be translated\n",
        "sentences = [\n",
        "    \"Definitely share your feedback in the comment section.\",\n",
        "    \"So even if it's a big video, I will clearly mention all the products.\",\n",
        "    \"I was waiting for my bag.\"\n",
        "    \"I had about a 30 minute demo just using this new headset\"\n",
        "]\n",
        "\n",
        "# Convert the Hindi words back to their original English format for each sentence\n",
        "for example_sentence in sentences:\n",
        "    hinglish_translation = convert_to_original_english(example_sentence)\n",
        "    print(f\"Example Sentence: {example_sentence}\")\n",
        "    print(f\"Hinglish Translation: {hinglish_translation}\")\n",
        "    print()\n"
      ],
      "metadata": {
        "colab": {
          "base_uri": "https://localhost:8080/"
        },
        "id": "ol22AsLc9cwo",
        "outputId": "a9b0f8dd-59df-44bd-9581-9673c917cde3"
      },
      "execution_count": 7,
      "outputs": [
        {
          "output_type": "stream",
          "name": "stdout",
          "text": [
            "Example Sentence: Definitely share your feedback in the comment section.\n",
            "Hinglish Translation: अपनी प्रतिक्रिया टिप्पणी अनुभाग में अवश्य साझा Do \n",
            "\n",
            "Example Sentence: So even if it's a big video, I will clearly mention all the products.\n",
            "Hinglish Translation: इसलिए भले Sole it एक बड़ा वीडियो हो, I स्पष्ट रूप से सभी उत्पादों का उल्लेख करूंगा। \n",
            "\n",
            "Example Sentence: I was waiting for my bag.I had about a 30 minute demo just using this new headset\n",
            "Hinglish Translation: मैं Our बैग का इंतजार कर Stayed था। मैंने This नए हेडसेट का उपयोग करके लगभग 30 मिनट का डेमो took \n",
            "\n"
          ]
        }
      ]
    }
  ]
}